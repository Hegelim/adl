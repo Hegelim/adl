{
 "cells": [
  {
   "cell_type": "code",
   "execution_count": 1,
   "id": "5ef7e5c8-2a5b-4494-8670-21ca8bcb18fb",
   "metadata": {},
   "outputs": [
    {
     "name": "stderr",
     "output_type": "stream",
     "text": [
      "2022-11-02 21:42:20.079305: I tensorflow/core/platform/cpu_feature_guard.cc:193] This TensorFlow binary is optimized with oneAPI Deep Neural Network Library (oneDNN) to use the following CPU instructions in performance-critical operations:  AVX2 AVX512F AVX512_VNNI FMA\n",
      "To enable them in other operations, rebuild TensorFlow with the appropriate compiler flags.\n",
      "2022-11-02 21:42:20.237625: I tensorflow/core/util/util.cc:169] oneDNN custom operations are on. You may see slightly different numerical results due to floating-point round-off errors from different computation orders. To turn them off, set the environment variable `TF_ENABLE_ONEDNN_OPTS=0`.\n",
      "2022-11-02 21:42:20.271163: E tensorflow/stream_executor/cuda/cuda_blas.cc:2981] Unable to register cuBLAS factory: Attempting to register factory for plugin cuBLAS when one has already been registered\n",
      "2022-11-02 21:42:21.036386: W tensorflow/stream_executor/platform/default/dso_loader.cc:64] Could not load dynamic library 'libnvinfer.so.7'; dlerror: libnvinfer.so.7: cannot open shared object file: No such file or directory; LD_LIBRARY_PATH: :/home/hegelim/miniconda3/envs/tensorflow/lib/\n",
      "2022-11-02 21:42:21.036542: W tensorflow/stream_executor/platform/default/dso_loader.cc:64] Could not load dynamic library 'libnvinfer_plugin.so.7'; dlerror: libnvinfer_plugin.so.7: cannot open shared object file: No such file or directory; LD_LIBRARY_PATH: :/home/hegelim/miniconda3/envs/tensorflow/lib/\n",
      "2022-11-02 21:42:21.036553: W tensorflow/compiler/tf2tensorrt/utils/py_utils.cc:38] TF-TRT Warning: Cannot dlopen some TensorRT libraries. If you would like to use Nvidia GPU with TensorRT, please make sure the missing libraries mentioned above are installed properly.\n"
     ]
    }
   ],
   "source": [
    "%matplotlib inline\n",
    "import matplotlib.pyplot as plt\n",
    "import numpy as np\n",
    "from openslide import open_slide, __library_version__ as openslide_version\n",
    "import os\n",
    "from PIL import Image\n",
    "from skimage.color import rgb2gray\n",
    "import tensorflow as tf\n",
    "from tensorflow import keras\n",
    "from tensorflow.keras.layers import Conv2D, Dense, Reshape, RandomFlip, RandomRotation, RandomBrightness, RandomContrast\n",
    "from tensorflow.keras import Model, Input"
   ]
  },
  {
   "cell_type": "markdown",
   "id": "756bfa67-e806-43d9-bc68-85be2561f2cd",
   "metadata": {},
   "source": [
    "### TODOs"
   ]
  },
  {
   "cell_type": "markdown",
   "id": "339911f9-028f-44a9-8ba1-ccba5a7c55d8",
   "metadata": {},
   "source": [
    "1. create randomly sampled training data\n",
    "2. how to create heatmap?\n",
    "3. Create test dataset - images or batches?\n",
    "4. what's recommended way of creating dataset?\n",
    "5. how to remove non-tissue area?\n",
    "6. use multiple zoom levels\n",
    "7. do I have to follow the paper?\n",
    "8. how to use DeepZoom viewer?\n",
    "9. what's the dir structure?"
   ]
  },
  {
   "cell_type": "code",
   "execution_count": 2,
   "id": "dc16f7e9-37dd-4790-9024-f19f6e4058af",
   "metadata": {},
   "outputs": [
    {
     "name": "stdout",
     "output_type": "stream",
     "text": [
      "gs://appliedeeplearning/tumor_001.tif\n",
      "gs://appliedeeplearning/tumor_001.xml\n",
      "gs://appliedeeplearning/tumor_001_mask.tif\n",
      "gs://appliedeeplearning/tumor_002.tif\n",
      "gs://appliedeeplearning/tumor_002.xml\n",
      "gs://appliedeeplearning/tumor_002_mask.tif\n",
      "gs://appliedeeplearning/tumor_005.tif\n",
      "gs://appliedeeplearning/tumor_005.xml\n",
      "gs://appliedeeplearning/tumor_005_mask.tif\n",
      "gs://appliedeeplearning/tumor_012.tif\n",
      "gs://appliedeeplearning/tumor_012.xml\n",
      "gs://appliedeeplearning/tumor_012_mask.tif\n",
      "gs://appliedeeplearning/tumor_016.tif\n",
      "gs://appliedeeplearning/tumor_016.xml\n",
      "gs://appliedeeplearning/tumor_016_mask.tif\n",
      "gs://appliedeeplearning/tumor_019.tif\n",
      "gs://appliedeeplearning/tumor_019.xml\n",
      "gs://appliedeeplearning/tumor_019_mask.tif\n",
      "gs://appliedeeplearning/tumor_023.tif\n",
      "gs://appliedeeplearning/tumor_023.xml\n",
      "gs://appliedeeplearning/tumor_023_mask.tif\n",
      "gs://appliedeeplearning/tumor_031.tif\n",
      "gs://appliedeeplearning/tumor_031.xml\n",
      "gs://appliedeeplearning/tumor_031_mask.tif\n",
      "gs://appliedeeplearning/tumor_035.tif\n",
      "gs://appliedeeplearning/tumor_035.xml\n",
      "gs://appliedeeplearning/tumor_035_mask.tif\n",
      "gs://appliedeeplearning/tumor_110.tif\n",
      "gs://appliedeeplearning/tumor_110.xml\n",
      "gs://appliedeeplearning/tumor_110_mask.tif\n"
     ]
    }
   ],
   "source": [
    "!gsutil ls gs://appliedeeplearning/"
   ]
  },
  {
   "cell_type": "markdown",
   "id": "e639cad9-b398-451f-86a8-55d6401c5e94",
   "metadata": {},
   "source": [
    "### Define Global Variables"
   ]
  },
  {
   "cell_type": "code",
   "execution_count": 3,
   "id": "dd2ca925-0190-46a7-bf98-4730388b721c",
   "metadata": {},
   "outputs": [],
   "source": [
    "DATA_BATCH = 8\n",
    "TRAIN_BATCH = 4\n",
    "EPOCHS = 5\n",
    "IMAGE_SIZE = 299\n",
    "REGION_SIZE = 128\n",
    "TRAINING_IMAGES = [(\"tumor_110.tif\", \"tumor_110_mask.tif\")]\n",
    "TEST_IMAGES = [(\"tumor_031.tif\", \"tumor_031_mask.tif\")]"
   ]
  },
  {
   "cell_type": "markdown",
   "id": "1de67090-0833-4912-9ff0-3a4b6a51f9d4",
   "metadata": {},
   "source": [
    "### Define Functions"
   ]
  },
  {
   "cell_type": "code",
   "execution_count": 4,
   "id": "6632175d-7188-4123-af2f-cc9822641b14",
   "metadata": {},
   "outputs": [],
   "source": [
    "def read_slide(slide, x, y, level, width, height, as_float=False):\n",
    "    im = slide.read_region((x,y), level, (width, height))\n",
    "    im = im.convert('RGB') # drop the alpha channel\n",
    "    if as_float:\n",
    "        im = np.asarray(im, dtype=np.float32)\n",
    "    else:\n",
    "        im = np.asarray(im)\n",
    "    assert im.shape == (height, width, 3)\n",
    "    return im"
   ]
  },
  {
   "cell_type": "code",
   "execution_count": 5,
   "id": "b3822c8c-d872-4191-80e4-91462daddd88",
   "metadata": {},
   "outputs": [],
   "source": [
    "def validate_openslide_objs(slide_obj, mask_obj):\n",
    "    for i in range(len(slide_obj.level_dimensions)):\n",
    "        assert mask_obj.level_dimensions[i][0] == slide_obj.level_dimensions[i][0]\n",
    "        assert mask_obj.level_dimensions[i][1] == slide_obj.level_dimensions[i][1]\n",
    "\n",
    "    # Verify downsampling works as expected\n",
    "    width, height = slide_obj.level_dimensions[7]\n",
    "    assert width * slide_obj.level_downsamples[7] == slide_obj.level_dimensions[0][0]\n",
    "    assert height * slide_obj.level_downsamples[7] == slide_obj.level_dimensions[0][1]"
   ]
  },
  {
   "cell_type": "code",
   "execution_count": 6,
   "id": "6dab4c39-d534-4f90-bd65-b83ecc644a32",
   "metadata": {},
   "outputs": [],
   "source": [
    "# As mentioned in class, we can improve efficiency by ignoring non-tissue areas \n",
    "# of the slide. We'll find these by looking for all gray regions.\n",
    "def find_tissue_pixels(image, intensity=0.8):\n",
    "    im_gray = rgb2gray(image)\n",
    "    assert im_gray.shape == (image.shape[0], image.shape[1])\n",
    "    indices = np.where(im_gray <= intensity)\n",
    "    return list(zip(indices[0], indices[1]))"
   ]
  },
  {
   "cell_type": "code",
   "execution_count": 7,
   "id": "e608cb24-5a1e-42ce-9ab7-6709f2ad7855",
   "metadata": {},
   "outputs": [],
   "source": [
    "def apply_mask(im, mask, color=(255,0,0)):\n",
    "    masked = np.copy(im)\n",
    "    for x,y in mask: masked[x][y] = color\n",
    "    return masked"
   ]
  },
  {
   "cell_type": "code",
   "execution_count": 8,
   "id": "e3c01aca-582a-4a2b-97f2-593401f221d1",
   "metadata": {},
   "outputs": [],
   "source": [
    "def extract_label(im, mask) -> int:\n",
    "    \"\"\"Extract label (0/1) from the center 128 x 128 of the im\"\"\"\n",
    "    start_i = im.shape[0] // 2 - REGION_SIZE // 2\n",
    "    end_i = start_i + REGION_SIZE\n",
    "    start_j = im.shape[1] // 2 - REGION_SIZE // 2\n",
    "    end_j = start_j + REGION_SIZE\n",
    "    mask_slice = mask[start_i:end_i, start_j:end_j]\n",
    "    return int(np.sum(mask_slice == 1) >= 1)"
   ]
  },
  {
   "cell_type": "code",
   "execution_count": 9,
   "id": "b2d6eb86-e3e9-43e8-8ef6-66e2c6047d21",
   "metadata": {},
   "outputs": [],
   "source": [
    "def augment_data(im: np.ndarray, mask: np.ndarray, training: list, labels: list):\n",
    "    \"\"\"Augment data\"\"\"\n",
    "    temp = []\n",
    "    for i in range(4):\n",
    "        temp.append(tf.image.rot90(im, k=i+1))\n",
    "    imflipped = tf.image.flip_left_right(im)\n",
    "    for i in range(4):\n",
    "        temp.append(tf.image.rot90(imflipped, k=i+1))\n",
    "    # apply random transformations \n",
    "    # using data in the paper\n",
    "    for img in temp:\n",
    "        img = tf.image.random_brightness(img, max_delta=64/255)\n",
    "        img = tf.image.random_saturation(img, lower=0, upper=0.25)\n",
    "        img = tf.image.random_contrast(img, lower=0, upper=0.75)\n",
    "        img = tf.image.random_hue(img, max_delta=0.04)\n",
    "    training += temp\n",
    "    labels += [extract_label(im, mask)] * 8\n",
    "    return training, labels"
   ]
  },
  {
   "cell_type": "code",
   "execution_count": 10,
   "id": "d43a1a67-94d9-4aff-8f1f-92c9723c7fee",
   "metadata": {},
   "outputs": [],
   "source": [
    "def create_slices(im, mask, height, width, stride):\n",
    "    \"\"\"Create slices from im and mask\n",
    "    \n",
    "    Args:\n",
    "        height: height of the slice\n",
    "        width: width of the slice\n",
    "        stride: how much to move per\n",
    "    \"\"\"\n",
    "    assert im.shape[0] == mask.shape[0]\n",
    "    assert im.shape[1] == mask.shape[1]\n",
    "    h, w = im.shape[0], im.shape[1]\n",
    "    training = []\n",
    "    labels = []\n",
    "    i = 0\n",
    "    while i * stride + height < h:\n",
    "        j = 0\n",
    "        while j * stride + width < w:\n",
    "            im_slice = im[i*stride: i*stride+height, j*stride: j*stride+width]            \n",
    "            mask_slice = mask[i*stride: i*stride+height, j*stride: j*stride+width]\n",
    "            # training, labels = augment_data(im_slice, mask_slice, training, labels)\n",
    "            training.append(im_slice)\n",
    "            labels.append(extract_label(im_slice, mask_slice))\n",
    "            j += 1\n",
    "        i += 1\n",
    "    return np.array(training), np.array(labels)"
   ]
  },
  {
   "cell_type": "code",
   "execution_count": 11,
   "id": "d50efdf6-8177-49e4-afe1-ef47d4e934d7",
   "metadata": {},
   "outputs": [],
   "source": [
    "def create_training_dataset(slide_path, tumor_mask_path, x, y, level, width, height, val_prop=0.2):\n",
    "    slide, tumor_mask = open_slide(slide_path), open_slide(tumor_mask_path)\n",
    "    slide_image = read_slide(slide, x, y, level, width, height).copy()\n",
    "    mask_image = read_slide(slide, x, y, level, width, height)[:, :, 0].copy()\n",
    "    slide_image /= 255\n",
    "    \n",
    "    X, y = create_slices(slide_image, mask_image, IMAGE_SIZE, IMAGE_SIZE)\n",
    "    dataset = tf.data.Dataset.from_tensor_slices((X, y)).batch(BATCH_SIZE)\n",
    "    n = len(X)\n",
    "    \n",
    "    val_dataset = dataset.take(int(n * val_prop))\n",
    "    train_dataset = dataset.skip(n - int(n * val_prop))\n",
    "    AUTOTUNE = tf.data.AUTOTUNE\n",
    "    train_dataset = train_dataset.prefetch(buffer_size=AUTOTUNE)\n",
    "    val_dataset = val_dataset.prefetch(buffer_size=AUTOTUNE)\n",
    "    return train_dataset, val_dataset"
   ]
  },
  {
   "cell_type": "code",
   "execution_count": 12,
   "id": "cf8701a8-810a-4f95-92d0-fd08d76d92e1",
   "metadata": {},
   "outputs": [],
   "source": [
    "def create_test_dataset(slide_path, tumor_mask_path, x, y, level, stride):\n",
    "    slide, tumor_mask = open_slide(slide_path), open_slide(tumor_mask_path)\n",
    "    slide_image = read_slide(slide, x, y, level, \n",
    "                             slide.level_dimensions[level][0], \n",
    "                             slide.level_dimensions[level][1])\n",
    "    mask_image = read_slide(tumor_mask, x, y, level, \n",
    "                            tumor_mask.level_dimensions[level][0], \n",
    "                            tumor_mask.level_dimensions[level][1])[:, :, 0]\n",
    "    slide_image = tf.cast(slide_image, tf.float32) / 255\n",
    "    \n",
    "    # now instead of setting stride = 299, we set stride = 128\n",
    "    X, y = create_slices(slide_image, mask_image, height=IMAGE_SIZE, width=IMAGE_SIZE, stride=stride)\n",
    "    dataset = tf.data.Dataset.from_tensor_slices((X, y)).batch(1)\n",
    "    n = len(X)\n",
    "    print(n)\n",
    "    \n",
    "    AUTOTUNE = tf.data.AUTOTUNE\n",
    "    test_dataset = dataset.prefetch(buffer_size=AUTOTUNE)\n",
    "    return test_dataset"
   ]
  },
  {
   "cell_type": "code",
   "execution_count": 13,
   "id": "c36167f6-15ac-4401-96d6-3ac5126ab6b2",
   "metadata": {},
   "outputs": [],
   "source": [
    "def make_inference(im: np.ndarray, test_dataset: tf.data.Dataset, model: tf.keras.Model):\n",
    "    \"\"\"Run inference across the slide in a sliding window\n",
    "    with a stride of 128. For each patch, apply the rotations\n",
    "    and left-right flip to obtain predictions for each of \n",
    "    the 8 orientations, and average the 8 predictions\"\"\"\n",
    "    preds = []\n",
    "    for X_test, y_test in test_dataset:\n",
    "        pred = model.pred(X_test)\n",
    "        preds.append(pred)\n",
    "    return preds"
   ]
  },
  {
   "cell_type": "markdown",
   "id": "f0624ef4-729b-467d-b6e2-e4ce6b3199cc",
   "metadata": {},
   "source": [
    "### Load Data"
   ]
  },
  {
   "cell_type": "code",
   "execution_count": 14,
   "id": "a28d493f-eb3b-4673-9273-aa4f4f3a5a90",
   "metadata": {},
   "outputs": [],
   "source": [
    "slide_path = \"tumor_110.tif\"\n",
    "tumor_mask_path = \"tumor_110_mask.tif\""
   ]
  },
  {
   "cell_type": "code",
   "execution_count": 15,
   "id": "e075d5ae-cb92-4438-8bc1-c1bea0eddd54",
   "metadata": {},
   "outputs": [],
   "source": [
    "slide = open_slide(slide_path)\n",
    "tumor_mask = open_slide(tumor_mask_path)"
   ]
  },
  {
   "cell_type": "code",
   "execution_count": 16,
   "id": "67d956d0-6abe-4716-991a-06f259445365",
   "metadata": {},
   "outputs": [
    {
     "data": {
      "text/plain": [
       "((94208, 71680),\n",
       " (47104, 35840),\n",
       " (23552, 17920),\n",
       " (11776, 8960),\n",
       " (5888, 4480),\n",
       " (2944, 2240),\n",
       " (1472, 1120),\n",
       " (736, 560),\n",
       " (368, 280))"
      ]
     },
     "execution_count": 16,
     "metadata": {},
     "output_type": "execute_result"
    }
   ],
   "source": [
    "slide.level_dimensions"
   ]
  },
  {
   "cell_type": "code",
   "execution_count": 17,
   "id": "a2feafa0-159e-4175-8eb7-e00dac69e563",
   "metadata": {},
   "outputs": [],
   "source": [
    "slide_image = read_slide(slide, \n",
    "                         x=0, \n",
    "                         y=0, \n",
    "                         level=4, \n",
    "                         width=slide.level_dimensions[4][0], \n",
    "                         height=slide.level_dimensions[4][1])\n",
    "\n",
    "mask_image = read_slide(tumor_mask, \n",
    "                        x=0, \n",
    "                        y=0, \n",
    "                        level=4, \n",
    "                        width=slide.level_dimensions[4][0], \n",
    "                        height=slide.level_dimensions[4][1])\n",
    "\n",
    "mask_image = mask_image[:,:,0]"
   ]
  },
  {
   "cell_type": "code",
   "execution_count": 18,
   "id": "a9fb72c3-184a-4c05-a24a-8ee311627b85",
   "metadata": {},
   "outputs": [
    {
     "data": {
      "text/plain": [
       "(4480, 5888)"
      ]
     },
     "execution_count": 18,
     "metadata": {},
     "output_type": "execute_result"
    }
   ],
   "source": [
    "mask_image.shape"
   ]
  },
  {
   "cell_type": "code",
   "execution_count": 19,
   "id": "4a9e719e-dd91-4292-a7cd-54ee91641d0e",
   "metadata": {},
   "outputs": [
    {
     "data": {
      "text/plain": [
       "(4480, 5888, 3)"
      ]
     },
     "execution_count": 19,
     "metadata": {},
     "output_type": "execute_result"
    }
   ],
   "source": [
    "slide_image.shape"
   ]
  },
  {
   "cell_type": "markdown",
   "id": "19cacbb6-1b93-40b6-99ad-8163145e1c9a",
   "metadata": {},
   "source": [
    "### Preprocessing"
   ]
  },
  {
   "cell_type": "markdown",
   "id": "6b6bffda-330c-4833-adad-f460da512c88",
   "metadata": {},
   "source": [
    "#### Normalize"
   ]
  },
  {
   "cell_type": "code",
   "execution_count": 20,
   "id": "fc391073-3d4c-4875-8d2a-17ddc5a95076",
   "metadata": {},
   "outputs": [
    {
     "name": "stderr",
     "output_type": "stream",
     "text": [
      "2022-11-02 21:42:27.262527: I tensorflow/stream_executor/cuda/cuda_gpu_executor.cc:966] could not open file to read NUMA node: /sys/bus/pci/devices/0000:01:00.0/numa_node\n",
      "Your kernel may have been built without NUMA support.\n",
      "2022-11-02 21:42:27.275515: I tensorflow/stream_executor/cuda/cuda_gpu_executor.cc:966] could not open file to read NUMA node: /sys/bus/pci/devices/0000:01:00.0/numa_node\n",
      "Your kernel may have been built without NUMA support.\n",
      "2022-11-02 21:42:27.276910: I tensorflow/stream_executor/cuda/cuda_gpu_executor.cc:966] could not open file to read NUMA node: /sys/bus/pci/devices/0000:01:00.0/numa_node\n",
      "Your kernel may have been built without NUMA support.\n",
      "2022-11-02 21:42:27.278324: I tensorflow/core/platform/cpu_feature_guard.cc:193] This TensorFlow binary is optimized with oneAPI Deep Neural Network Library (oneDNN) to use the following CPU instructions in performance-critical operations:  AVX2 AVX512F AVX512_VNNI FMA\n",
      "To enable them in other operations, rebuild TensorFlow with the appropriate compiler flags.\n",
      "2022-11-02 21:42:27.281403: I tensorflow/stream_executor/cuda/cuda_gpu_executor.cc:966] could not open file to read NUMA node: /sys/bus/pci/devices/0000:01:00.0/numa_node\n",
      "Your kernel may have been built without NUMA support.\n",
      "2022-11-02 21:42:27.282772: I tensorflow/stream_executor/cuda/cuda_gpu_executor.cc:966] could not open file to read NUMA node: /sys/bus/pci/devices/0000:01:00.0/numa_node\n",
      "Your kernel may have been built without NUMA support.\n",
      "2022-11-02 21:42:27.284411: I tensorflow/stream_executor/cuda/cuda_gpu_executor.cc:966] could not open file to read NUMA node: /sys/bus/pci/devices/0000:01:00.0/numa_node\n",
      "Your kernel may have been built without NUMA support.\n",
      "2022-11-02 21:42:28.557532: I tensorflow/stream_executor/cuda/cuda_gpu_executor.cc:966] could not open file to read NUMA node: /sys/bus/pci/devices/0000:01:00.0/numa_node\n",
      "Your kernel may have been built without NUMA support.\n",
      "2022-11-02 21:42:28.558992: I tensorflow/stream_executor/cuda/cuda_gpu_executor.cc:966] could not open file to read NUMA node: /sys/bus/pci/devices/0000:01:00.0/numa_node\n",
      "Your kernel may have been built without NUMA support.\n",
      "2022-11-02 21:42:28.559040: I tensorflow/core/common_runtime/gpu/gpu_device.cc:1700] Could not identify NUMA node of platform GPU id 0, defaulting to 0.  Your kernel may not have been built with NUMA support.\n",
      "2022-11-02 21:42:28.560286: I tensorflow/stream_executor/cuda/cuda_gpu_executor.cc:966] could not open file to read NUMA node: /sys/bus/pci/devices/0000:01:00.0/numa_node\n",
      "Your kernel may have been built without NUMA support.\n",
      "2022-11-02 21:42:28.560359: I tensorflow/core/common_runtime/gpu/gpu_device.cc:1616] Created device /job:localhost/replica:0/task:0/device:GPU:0 with 3441 MB memory:  -> device: 0, name: NVIDIA GeForce RTX 3060 Laptop GPU, pci bus id: 0000:01:00.0, compute capability: 8.6\n"
     ]
    }
   ],
   "source": [
    "slide_image_normalized = tf.cast(slide_image, tf.float32) / 255"
   ]
  },
  {
   "cell_type": "code",
   "execution_count": 21,
   "id": "a40f4129-36c3-4e76-b963-73588752a43e",
   "metadata": {},
   "outputs": [],
   "source": [
    "assert mask_image.shape[0] == slide_image.shape[0]\n",
    "assert mask_image.shape[1] == slide_image.shape[1]\n",
    "IMG_SHAPE = slide_image.shape"
   ]
  },
  {
   "cell_type": "markdown",
   "id": "75d8fc38-d10f-489b-bdf7-38a1c92c9a89",
   "metadata": {},
   "source": [
    "#### Create Dataset"
   ]
  },
  {
   "cell_type": "code",
   "execution_count": 22,
   "id": "d18d62f2-5ba0-4d8c-826e-5180e142979f",
   "metadata": {},
   "outputs": [
    {
     "name": "stdout",
     "output_type": "stream",
     "text": [
      "(266, 299, 299, 3)\n",
      "(266,)\n"
     ]
    }
   ],
   "source": [
    "X, y = create_slices(slide_image_normalized, mask_image, IMAGE_SIZE, IMAGE_SIZE, IMAGE_SIZE)\n",
    "print(X.shape)\n",
    "print(y.shape)"
   ]
  },
  {
   "cell_type": "code",
   "execution_count": 23,
   "id": "c05fceff-2ad4-41c6-abdc-fafc0aa95a9b",
   "metadata": {},
   "outputs": [
    {
     "name": "stdout",
     "output_type": "stream",
     "text": [
      "64\n",
      "202\n"
     ]
    }
   ],
   "source": [
    "print(np.count_nonzero(y == 1))\n",
    "print(np.count_nonzero(y == 0))"
   ]
  },
  {
   "cell_type": "code",
   "execution_count": 24,
   "id": "63793ca2-67b5-4763-8024-30e81b093884",
   "metadata": {},
   "outputs": [],
   "source": [
    "# setting batch_size = 1 -> each element becomes a batch\n",
    "dataset = tf.data.Dataset.from_tensor_slices((X, y)).batch(1)\n",
    "val_dataset = dataset.take(15)\n",
    "train_dataset = dataset.skip(15)\n",
    "\n",
    "AUTOTUNE = tf.data.AUTOTUNE\n",
    "\n",
    "train_dataset = train_dataset.prefetch(buffer_size=AUTOTUNE)\n",
    "val_dataset = val_dataset.prefetch(buffer_size=AUTOTUNE)"
   ]
  },
  {
   "cell_type": "code",
   "execution_count": 25,
   "id": "129f6f93-ed3c-4a15-a459-beda06ab5b22",
   "metadata": {},
   "outputs": [
    {
     "name": "stdout",
     "output_type": "stream",
     "text": [
      "(1, 299, 299, 3)\n",
      "(1,)\n"
     ]
    }
   ],
   "source": [
    "for image, mask in train_dataset.take(2):\n",
    "    print(image.shape)\n",
    "    print(mask.shape)\n",
    "    break"
   ]
  },
  {
   "cell_type": "code",
   "execution_count": 26,
   "id": "173ebd4c-50af-4ee2-9179-22bc1c926678",
   "metadata": {},
   "outputs": [
    {
     "name": "stdout",
     "output_type": "stream",
     "text": [
      "<PrefetchDataset element_spec=(TensorSpec(shape=(None, 299, 299, 3), dtype=tf.float32, name=None), TensorSpec(shape=(None,), dtype=tf.int64, name=None))>\n"
     ]
    }
   ],
   "source": [
    "print(train_dataset)"
   ]
  },
  {
   "cell_type": "markdown",
   "id": "2c8e630f-e139-49ce-beb0-d153f7721652",
   "metadata": {},
   "source": [
    "### Define Model"
   ]
  },
  {
   "cell_type": "code",
   "execution_count": 27,
   "id": "9dd4a31f-53ad-42e5-8b56-5db8533311b0",
   "metadata": {},
   "outputs": [],
   "source": [
    "def train_data_augmentation(x):\n",
    "    x = RandomRotation(0.25)(x)\n",
    "    x = RandomRotation(0.5)(x)\n",
    "    x = RandomRotation(0.75)(x)\n",
    "    x = RandomFlip(\"horizontal\")(x)\n",
    "    x = RandomBrightness(factor=64/255)(x)\n",
    "    x = RandomContrast(factor=0.75)(x)\n",
    "    return x"
   ]
  },
  {
   "cell_type": "code",
   "execution_count": 28,
   "id": "b9ac0cfc-5d27-4906-9578-eb8f02b2d880",
   "metadata": {},
   "outputs": [],
   "source": [
    "def customized_model(image_size, classes):\n",
    "    inputs = Input(shape=(image_size, image_size, 3))\n",
    "    x = train_data_augmentation(inputs)\n",
    "    base_model = tf.keras.applications.InceptionV3(input_shape=(IMAGE_SIZE, IMAGE_SIZE, 3), \n",
    "                                                   include_top=False, \n",
    "                                                   weights='imagenet')\n",
    "    x = base_model(inputs, training=False)\n",
    "    x = Conv2D(filters=1, kernel_size=(3, 3), padding=\"same\")(x)\n",
    "    x = Reshape((64,))(x)\n",
    "    outputs = Dense(1, activation=\"softmax\")(x)\n",
    "    model = Model(inputs, outputs, name=\"myModel\")\n",
    "    return model"
   ]
  },
  {
   "cell_type": "code",
   "execution_count": 29,
   "id": "5137bbc2-40a5-4bcf-a87e-e3ac6a9f19fc",
   "metadata": {},
   "outputs": [
    {
     "name": "stdout",
     "output_type": "stream",
     "text": [
      "WARNING:tensorflow:Using a while_loop for converting RngReadAndSkip cause there is no registered converter for this op.\n",
      "WARNING:tensorflow:Using a while_loop for converting Bitcast cause there is no registered converter for this op.\n",
      "WARNING:tensorflow:Using a while_loop for converting Bitcast cause there is no registered converter for this op.\n",
      "WARNING:tensorflow:Using a while_loop for converting StatelessRandomUniformV2 cause there is no registered converter for this op.\n",
      "WARNING:tensorflow:Using a while_loop for converting ImageProjectiveTransformV3 cause there is no registered converter for this op.\n",
      "WARNING:tensorflow:Using a while_loop for converting RngReadAndSkip cause there is no registered converter for this op.\n",
      "WARNING:tensorflow:Using a while_loop for converting Bitcast cause there is no registered converter for this op.\n",
      "WARNING:tensorflow:Using a while_loop for converting Bitcast cause there is no registered converter for this op.\n",
      "WARNING:tensorflow:Using a while_loop for converting StatelessRandomUniformV2 cause there is no registered converter for this op.\n",
      "WARNING:tensorflow:Using a while_loop for converting ImageProjectiveTransformV3 cause there is no registered converter for this op.\n",
      "WARNING:tensorflow:Using a while_loop for converting RngReadAndSkip cause there is no registered converter for this op.\n",
      "WARNING:tensorflow:Using a while_loop for converting Bitcast cause there is no registered converter for this op.\n",
      "WARNING:tensorflow:Using a while_loop for converting Bitcast cause there is no registered converter for this op.\n",
      "WARNING:tensorflow:Using a while_loop for converting StatelessRandomUniformV2 cause there is no registered converter for this op.\n",
      "WARNING:tensorflow:Using a while_loop for converting ImageProjectiveTransformV3 cause there is no registered converter for this op.\n",
      "WARNING:tensorflow:Using a while_loop for converting RngReadAndSkip cause there is no registered converter for this op.\n",
      "WARNING:tensorflow:Using a while_loop for converting Bitcast cause there is no registered converter for this op.\n",
      "WARNING:tensorflow:Using a while_loop for converting Bitcast cause there is no registered converter for this op.\n",
      "WARNING:tensorflow:Using a while_loop for converting StatelessRandomUniformV2 cause there is no registered converter for this op.\n",
      "WARNING:tensorflow:Using a while_loop for converting RngReadAndSkip cause there is no registered converter for this op.\n",
      "WARNING:tensorflow:Using a while_loop for converting Bitcast cause there is no registered converter for this op.\n",
      "WARNING:tensorflow:Using a while_loop for converting Bitcast cause there is no registered converter for this op.\n",
      "WARNING:tensorflow:Using a while_loop for converting StatelessRandomUniformFullIntV2 cause there is no registered converter for this op.\n",
      "WARNING:tensorflow:Using a while_loop for converting StatelessRandomGetKeyCounter cause there is no registered converter for this op.\n",
      "WARNING:tensorflow:Using a while_loop for converting StatelessRandomUniformV2 cause there is no registered converter for this op.\n",
      "WARNING:tensorflow:Using a while_loop for converting AdjustContrastv2 cause Input \"contrast_factor\" of op 'AdjustContrastv2' expected to be loop invariant.\n"
     ]
    }
   ],
   "source": [
    "model = customized_model(IMAGE_SIZE, 1)"
   ]
  },
  {
   "cell_type": "code",
   "execution_count": 30,
   "id": "f822b825-7fb1-4c49-acfc-505f7759e8eb",
   "metadata": {},
   "outputs": [
    {
     "name": "stdout",
     "output_type": "stream",
     "text": [
      "Model: \"myModel\"\n",
      "_________________________________________________________________\n",
      " Layer (type)                Output Shape              Param #   \n",
      "=================================================================\n",
      " input_1 (InputLayer)        [(None, 299, 299, 3)]     0         \n",
      "                                                                 \n",
      " inception_v3 (Functional)   (None, 8, 8, 2048)        21802784  \n",
      "                                                                 \n",
      " conv2d_94 (Conv2D)          (None, 8, 8, 1)           18433     \n",
      "                                                                 \n",
      " reshape (Reshape)           (None, 64)                0         \n",
      "                                                                 \n",
      " dense (Dense)               (None, 1)                 65        \n",
      "                                                                 \n",
      "=================================================================\n",
      "Total params: 21,821,282\n",
      "Trainable params: 21,786,850\n",
      "Non-trainable params: 34,432\n",
      "_________________________________________________________________\n"
     ]
    }
   ],
   "source": [
    "model.summary()"
   ]
  },
  {
   "cell_type": "markdown",
   "id": "2e69f042-ddda-4e3c-9da1-c9a6e1fd98d5",
   "metadata": {},
   "source": [
    "### Compile Model"
   ]
  },
  {
   "cell_type": "code",
   "execution_count": 31,
   "id": "baa44398-d4c7-4524-91ec-099f86eb0734",
   "metadata": {},
   "outputs": [],
   "source": [
    "model.compile(\n",
    "    optimizer=tf.keras.optimizers.Adam(learning_rate=1e-3),\n",
    "    loss=tf.keras.losses.BinaryCrossentropy(),\n",
    "    metrics=[keras.metrics.BinaryAccuracy(),\n",
    "             keras.metrics.FalseNegatives(),\n",
    "             keras.metrics.FalsePositives(),\n",
    "             keras.metrics.AUC(),\n",
    "             keras.metrics.Recall()]\n",
    ")"
   ]
  },
  {
   "cell_type": "markdown",
   "id": "12ee14b3-21ed-409a-a310-431b73b979a4",
   "metadata": {},
   "source": [
    "### Train Model"
   ]
  },
  {
   "cell_type": "code",
   "execution_count": 32,
   "id": "b77085a2-e90f-46b1-9723-983249f4e130",
   "metadata": {},
   "outputs": [
    {
     "name": "stdout",
     "output_type": "stream",
     "text": [
      "Epoch 1/5\n"
     ]
    },
    {
     "name": "stderr",
     "output_type": "stream",
     "text": [
      "2022-11-02 21:42:46.372042: I tensorflow/stream_executor/cuda/cuda_dnn.cc:384] Loaded cuDNN version 8100\n",
      "2022-11-02 21:42:47.778598: W tensorflow/stream_executor/gpu/asm_compiler.cc:111] *** WARNING *** You are using ptxas 10.1.243, which is older than 11.1. ptxas before 11.1 is known to miscompile XLA code, leading to incorrect results or invalid-address errors.\n",
      "\n",
      "You may not need to update to CUDA 11.1; cherry-picking the ptxas binary is often sufficient.\n",
      "2022-11-02 21:42:47.780026: W tensorflow/stream_executor/gpu/asm_compiler.cc:230] Falling back to the CUDA driver for PTX compilation; ptxas does not support CC 8.6\n",
      "2022-11-02 21:42:47.780071: W tensorflow/stream_executor/gpu/asm_compiler.cc:233] Used ptxas at ptxas\n",
      "2022-11-02 21:42:47.780133: W tensorflow/stream_executor/gpu/redzone_allocator.cc:314] UNIMPLEMENTED: ptxas ptxas too old. Falling back to the driver to compile.\n",
      "Relying on driver to perform ptx compilation. \n",
      "Modify $PATH to customize ptxas location.\n",
      "This message will be only logged once.\n",
      "2022-11-02 21:42:49.187645: I tensorflow/stream_executor/cuda/cuda_blas.cc:1614] TensorFloat-32 will be used for the matrix multiplication. This will only be logged once.\n"
     ]
    },
    {
     "name": "stdout",
     "output_type": "stream",
     "text": [
      "251/251 [==============================] - 32s 78ms/step - loss: 1584.6302 - binary_accuracy: 0.2550 - false_negatives: 0.0000e+00 - false_positives: 187.0000 - auc: 0.5000 - recall: 1.0000 - val_loss: 0.0000e+00 - val_binary_accuracy: 0.0000e+00 - val_false_negatives: 0.0000e+00 - val_false_positives: 15.0000 - val_auc: 0.0000e+00 - val_recall: 0.0000e+00\n",
      "Epoch 2/5\n",
      "251/251 [==============================] - 17s 68ms/step - loss: 7220793.0000 - binary_accuracy: 0.2550 - false_negatives: 0.0000e+00 - false_positives: 187.0000 - auc: 0.5000 - recall: 1.0000 - val_loss: 0.0000e+00 - val_binary_accuracy: 0.0000e+00 - val_false_negatives: 0.0000e+00 - val_false_positives: 15.0000 - val_auc: 0.0000e+00 - val_recall: 0.0000e+00\n",
      "Epoch 3/5\n",
      "251/251 [==============================] - 18s 72ms/step - loss: 795818304.0000 - binary_accuracy: 0.2550 - false_negatives: 0.0000e+00 - false_positives: 187.0000 - auc: 0.5000 - recall: 1.0000 - val_loss: 0.0000e+00 - val_binary_accuracy: 0.0000e+00 - val_false_negatives: 0.0000e+00 - val_false_positives: 15.0000 - val_auc: 0.0000e+00 - val_recall: 0.0000e+00\n",
      "Epoch 4/5\n",
      "251/251 [==============================] - 17s 69ms/step - loss: 30652323840.0000 - binary_accuracy: 0.2550 - false_negatives: 0.0000e+00 - false_positives: 187.0000 - auc: 0.5000 - recall: 1.0000 - val_loss: 0.0000e+00 - val_binary_accuracy: 0.0000e+00 - val_false_negatives: 0.0000e+00 - val_false_positives: 15.0000 - val_auc: 0.0000e+00 - val_recall: 0.0000e+00\n",
      "Epoch 5/5\n",
      "251/251 [==============================] - 18s 71ms/step - loss: 2016354.2500 - binary_accuracy: 0.2550 - false_negatives: 0.0000e+00 - false_positives: 187.0000 - auc: 0.5000 - recall: 1.0000 - val_loss: 0.0000e+00 - val_binary_accuracy: 0.0000e+00 - val_false_negatives: 0.0000e+00 - val_false_positives: 15.0000 - val_auc: 0.0000e+00 - val_recall: 0.0000e+00\n"
     ]
    }
   ],
   "source": [
    "history = model.fit(\n",
    "    train_dataset, \n",
    "    epochs=EPOCHS,\n",
    "    verbose=1,\n",
    "    validation_data=val_dataset\n",
    ")"
   ]
  },
  {
   "cell_type": "markdown",
   "id": "c3f657be-5fcd-44ed-bd80-f0939eca8a7e",
   "metadata": {},
   "source": [
    "### Plot Metrics"
   ]
  },
  {
   "cell_type": "code",
   "execution_count": 33,
   "id": "f59037ff-c0fe-4d26-8699-ffbc0becaf6b",
   "metadata": {},
   "outputs": [
    {
     "data": {
      "image/png": "[encoded data removed]",
      "text/plain": [
       "<Figure size 1200x800 with 6 Axes>"
      ]
     },
     "metadata": {},
     "output_type": "display_data"
    }
   ],
   "source": [
    "fig, axs = plt.subplots(2, 3, figsize=(12, 8))\n",
    "for i, ax in enumerate(axs.reshape(-1)):\n",
    "    ax.plot(np.arange(1, EPOCHS+1), history.history[model.metrics_names[i]], label=model.metrics_names[i])\n",
    "    ax.plot(np.arange(1, EPOCHS+1), history.history[f\"val_{model.metrics_names[i]}\"], label=f\"val_{model.metrics_names[i]}\")\n",
    "    ax.legend()"
   ]
  },
  {
   "cell_type": "markdown",
   "id": "362b276f-b214-497e-bda8-d583fe2b85f0",
   "metadata": {},
   "source": [
    "### Make Prediction"
   ]
  },
  {
   "cell_type": "code",
   "execution_count": 34,
   "id": "b12e1340-14ec-4ade-9c0b-edfff56deaf6",
   "metadata": {},
   "outputs": [
    {
     "data": {
      "text/plain": [
       "(1, 299, 299, 3)"
      ]
     },
     "execution_count": 34,
     "metadata": {},
     "output_type": "execute_result"
    }
   ],
   "source": [
    "X_test_sample = slide_image_normalized[8:8+299, 8:8+299]\n",
    "X_test_sample = np.expand_dims(X_test_sample, 0)\n",
    "X_test_sample.shape"
   ]
  },
  {
   "cell_type": "code",
   "execution_count": 35,
   "id": "2a731eda-05a9-44be-86c9-1bc54f8a0be3",
   "metadata": {},
   "outputs": [
    {
     "name": "stdout",
     "output_type": "stream",
     "text": [
      "1/1 [==============================] - 1s 1s/step\n"
     ]
    },
    {
     "data": {
      "text/plain": [
       "array([[1.]], dtype=float32)"
      ]
     },
     "execution_count": 35,
     "metadata": {},
     "output_type": "execute_result"
    }
   ],
   "source": [
    "model.predict(\n",
    "    X_test_sample\n",
    ")"
   ]
  },
  {
   "cell_type": "code",
   "execution_count": 36,
   "id": "0ef24cac-d20d-433d-8491-3a406a365089",
   "metadata": {},
   "outputs": [
    {
     "name": "stdout",
     "output_type": "stream",
     "text": [
      "1144\n"
     ]
    },
    {
     "data": {
      "text/plain": [
       "<PrefetchDataset element_spec=(TensorSpec(shape=(None, 299, 299, 3), dtype=tf.float32, name=None), TensorSpec(shape=(None,), dtype=tf.int64, name=None))>"
      ]
     },
     "execution_count": 36,
     "metadata": {},
     "output_type": "execute_result"
    }
   ],
   "source": [
    "test_dataset = create_test_dataset(TEST_IMAGES[0][0], TEST_IMAGES[0][1], x=0, y=0, level=5, stride=REGION_SIZE)\n",
    "test_dataset"
   ]
  },
  {
   "cell_type": "code",
   "execution_count": 37,
   "id": "1b432b08-f91d-4558-854c-c09527d388a0",
   "metadata": {},
   "outputs": [],
   "source": [
    "test_slide = open_slide(TEST_IMAGES[0][0])\n",
    "test_mask = open_slide(TEST_IMAGES[0][1])\n",
    "test_slide_img = read_slide(test_slide, 0, 0, 6, test_slide.level_dimensions[6][0], test_slide.level_dimensions[6][1])\n",
    "mask_img = read_slide(test_mask, 0, 0, 6, test_mask.level_dimensions[6][0], test_mask.level_dimensions[6][1])\n",
    "test_slide_img = tf.cast(test_slide_img, tf.float32) / 255\n",
    "h, w = test_slide_img.shape[0], test_slide_img.shape[1]"
   ]
  },
  {
   "cell_type": "code",
   "execution_count": 40,
   "id": "b68695e4-287e-4d89-a5bb-c85f7bbaf6a3",
   "metadata": {},
   "outputs": [
    {
     "ename": "KeyboardInterrupt",
     "evalue": "",
     "output_type": "error",
     "traceback": [
      "\u001b[0;31m---------------------------------------------------------------------------\u001b[0m",
      "\u001b[0;31mKeyboardInterrupt\u001b[0m                         Traceback (most recent call last)",
      "Cell \u001b[0;32mIn [40], line 21\u001b[0m\n\u001b[1;32m     18\u001b[0m temp \u001b[38;5;241m=\u001b[39m np\u001b[38;5;241m.\u001b[39marray(temp)\n\u001b[1;32m     20\u001b[0m \u001b[38;5;66;03m# pred\u001b[39;00m\n\u001b[0;32m---> 21\u001b[0m y_preds \u001b[38;5;241m=\u001b[39m \u001b[43mmodel\u001b[49m\u001b[38;5;241;43m.\u001b[39;49m\u001b[43mpredict\u001b[49m\u001b[43m(\u001b[49m\u001b[43mtemp\u001b[49m\u001b[43m,\u001b[49m\u001b[43m \u001b[49m\u001b[43mverbose\u001b[49m\u001b[38;5;241;43m=\u001b[39;49m\u001b[38;5;241;43m0\u001b[39;49m\u001b[43m)\u001b[49m\n\u001b[1;32m     22\u001b[0m y_pred_avg \u001b[38;5;241m=\u001b[39m np\u001b[38;5;241m.\u001b[39maverage(y_preds)\n\u001b[1;32m     24\u001b[0m \u001b[38;5;66;03m# fill heatmap\u001b[39;00m\n",
      "File \u001b[0;32m~/miniconda3/envs/tensorflow/lib/python3.9/site-packages/keras/utils/traceback_utils.py:65\u001b[0m, in \u001b[0;36mfilter_traceback.<locals>.error_handler\u001b[0;34m(*args, **kwargs)\u001b[0m\n\u001b[1;32m     63\u001b[0m filtered_tb \u001b[38;5;241m=\u001b[39m \u001b[38;5;28;01mNone\u001b[39;00m\n\u001b[1;32m     64\u001b[0m \u001b[38;5;28;01mtry\u001b[39;00m:\n\u001b[0;32m---> 65\u001b[0m     \u001b[38;5;28;01mreturn\u001b[39;00m \u001b[43mfn\u001b[49m\u001b[43m(\u001b[49m\u001b[38;5;241;43m*\u001b[39;49m\u001b[43margs\u001b[49m\u001b[43m,\u001b[49m\u001b[43m \u001b[49m\u001b[38;5;241;43m*\u001b[39;49m\u001b[38;5;241;43m*\u001b[39;49m\u001b[43mkwargs\u001b[49m\u001b[43m)\u001b[49m\n\u001b[1;32m     66\u001b[0m \u001b[38;5;28;01mexcept\u001b[39;00m \u001b[38;5;167;01mException\u001b[39;00m \u001b[38;5;28;01mas\u001b[39;00m e:\n\u001b[1;32m     67\u001b[0m     filtered_tb \u001b[38;5;241m=\u001b[39m _process_traceback_frames(e\u001b[38;5;241m.\u001b[39m__traceback__)\n",
      "File \u001b[0;32m~/miniconda3/envs/tensorflow/lib/python3.9/site-packages/keras/engine/training.py:2297\u001b[0m, in \u001b[0;36mModel.predict\u001b[0;34m(self, x, batch_size, verbose, steps, callbacks, max_queue_size, workers, use_multiprocessing)\u001b[0m\n\u001b[1;32m   2294\u001b[0m \u001b[38;5;28;01mif\u001b[39;00m original_pss_strategy \u001b[38;5;129;01mis\u001b[39;00m \u001b[38;5;129;01mnot\u001b[39;00m \u001b[38;5;28;01mNone\u001b[39;00m:\n\u001b[1;32m   2295\u001b[0m     \u001b[38;5;28mself\u001b[39m\u001b[38;5;241m.\u001b[39m_distribution_strategy \u001b[38;5;241m=\u001b[39m original_pss_strategy\n\u001b[0;32m-> 2297\u001b[0m \u001b[38;5;28;01mreturn\u001b[39;00m \u001b[43mtf_utils\u001b[49m\u001b[38;5;241;43m.\u001b[39;49m\u001b[43msync_to_numpy_or_python_type\u001b[49m\u001b[43m(\u001b[49m\u001b[43mall_outputs\u001b[49m\u001b[43m)\u001b[49m\n",
      "File \u001b[0;32m~/miniconda3/envs/tensorflow/lib/python3.9/site-packages/keras/utils/tf_utils.py:635\u001b[0m, in \u001b[0;36msync_to_numpy_or_python_type\u001b[0;34m(tensors)\u001b[0m\n\u001b[1;32m    632\u001b[0m         \u001b[38;5;28;01mreturn\u001b[39;00m t\n\u001b[1;32m    633\u001b[0m     \u001b[38;5;28;01mreturn\u001b[39;00m t\u001b[38;5;241m.\u001b[39mitem() \u001b[38;5;28;01mif\u001b[39;00m np\u001b[38;5;241m.\u001b[39mndim(t) \u001b[38;5;241m==\u001b[39m \u001b[38;5;241m0\u001b[39m \u001b[38;5;28;01melse\u001b[39;00m t\n\u001b[0;32m--> 635\u001b[0m \u001b[38;5;28;01mreturn\u001b[39;00m \u001b[43mtf\u001b[49m\u001b[38;5;241;43m.\u001b[39;49m\u001b[43mnest\u001b[49m\u001b[38;5;241;43m.\u001b[39;49m\u001b[43mmap_structure\u001b[49m\u001b[43m(\u001b[49m\u001b[43m_to_single_numpy_or_python_type\u001b[49m\u001b[43m,\u001b[49m\u001b[43m \u001b[49m\u001b[43mtensors\u001b[49m\u001b[43m)\u001b[49m\n",
      "File \u001b[0;32m~/miniconda3/envs/tensorflow/lib/python3.9/site-packages/tensorflow/python/util/nest.py:917\u001b[0m, in \u001b[0;36mmap_structure\u001b[0;34m(func, *structure, **kwargs)\u001b[0m\n\u001b[1;32m    913\u001b[0m flat_structure \u001b[38;5;241m=\u001b[39m (flatten(s, expand_composites) \u001b[38;5;28;01mfor\u001b[39;00m s \u001b[38;5;129;01min\u001b[39;00m structure)\n\u001b[1;32m    914\u001b[0m entries \u001b[38;5;241m=\u001b[39m \u001b[38;5;28mzip\u001b[39m(\u001b[38;5;241m*\u001b[39mflat_structure)\n\u001b[1;32m    916\u001b[0m \u001b[38;5;28;01mreturn\u001b[39;00m pack_sequence_as(\n\u001b[0;32m--> 917\u001b[0m     structure[\u001b[38;5;241m0\u001b[39m], [func(\u001b[38;5;241m*\u001b[39mx) \u001b[38;5;28;01mfor\u001b[39;00m x \u001b[38;5;129;01min\u001b[39;00m entries],\n\u001b[1;32m    918\u001b[0m     expand_composites\u001b[38;5;241m=\u001b[39mexpand_composites)\n",
      "File \u001b[0;32m~/miniconda3/envs/tensorflow/lib/python3.9/site-packages/tensorflow/python/util/nest.py:917\u001b[0m, in \u001b[0;36m<listcomp>\u001b[0;34m(.0)\u001b[0m\n\u001b[1;32m    913\u001b[0m flat_structure \u001b[38;5;241m=\u001b[39m (flatten(s, expand_composites) \u001b[38;5;28;01mfor\u001b[39;00m s \u001b[38;5;129;01min\u001b[39;00m structure)\n\u001b[1;32m    914\u001b[0m entries \u001b[38;5;241m=\u001b[39m \u001b[38;5;28mzip\u001b[39m(\u001b[38;5;241m*\u001b[39mflat_structure)\n\u001b[1;32m    916\u001b[0m \u001b[38;5;28;01mreturn\u001b[39;00m pack_sequence_as(\n\u001b[0;32m--> 917\u001b[0m     structure[\u001b[38;5;241m0\u001b[39m], [\u001b[43mfunc\u001b[49m\u001b[43m(\u001b[49m\u001b[38;5;241;43m*\u001b[39;49m\u001b[43mx\u001b[49m\u001b[43m)\u001b[49m \u001b[38;5;28;01mfor\u001b[39;00m x \u001b[38;5;129;01min\u001b[39;00m entries],\n\u001b[1;32m    918\u001b[0m     expand_composites\u001b[38;5;241m=\u001b[39mexpand_composites)\n",
      "File \u001b[0;32m~/miniconda3/envs/tensorflow/lib/python3.9/site-packages/keras/utils/tf_utils.py:628\u001b[0m, in \u001b[0;36msync_to_numpy_or_python_type.<locals>._to_single_numpy_or_python_type\u001b[0;34m(t)\u001b[0m\n\u001b[1;32m    625\u001b[0m \u001b[38;5;28;01mdef\u001b[39;00m \u001b[38;5;21m_to_single_numpy_or_python_type\u001b[39m(t):\n\u001b[1;32m    626\u001b[0m     \u001b[38;5;66;03m# Don't turn ragged or sparse tensors to NumPy.\u001b[39;00m\n\u001b[1;32m    627\u001b[0m     \u001b[38;5;28;01mif\u001b[39;00m \u001b[38;5;28misinstance\u001b[39m(t, tf\u001b[38;5;241m.\u001b[39mTensor):\n\u001b[0;32m--> 628\u001b[0m         t \u001b[38;5;241m=\u001b[39m \u001b[43mt\u001b[49m\u001b[38;5;241;43m.\u001b[39;49m\u001b[43mnumpy\u001b[49m\u001b[43m(\u001b[49m\u001b[43m)\u001b[49m\n\u001b[1;32m    629\u001b[0m     \u001b[38;5;66;03m# Strings, ragged and sparse tensors don't have .item(). Return them\u001b[39;00m\n\u001b[1;32m    630\u001b[0m     \u001b[38;5;66;03m# as-is.\u001b[39;00m\n\u001b[1;32m    631\u001b[0m     \u001b[38;5;28;01mif\u001b[39;00m \u001b[38;5;129;01mnot\u001b[39;00m \u001b[38;5;28misinstance\u001b[39m(t, (np\u001b[38;5;241m.\u001b[39mndarray, np\u001b[38;5;241m.\u001b[39mgeneric)):\n",
      "File \u001b[0;32m~/miniconda3/envs/tensorflow/lib/python3.9/site-packages/tensorflow/python/framework/ops.py:1157\u001b[0m, in \u001b[0;36m_EagerTensorBase.numpy\u001b[0;34m(self)\u001b[0m\n\u001b[1;32m   1134\u001b[0m \u001b[38;5;124;03m\"\"\"Copy of the contents of this Tensor into a NumPy array or scalar.\u001b[39;00m\n\u001b[1;32m   1135\u001b[0m \n\u001b[1;32m   1136\u001b[0m \u001b[38;5;124;03mUnlike NumPy arrays, Tensors are immutable, so this method has to copy\u001b[39;00m\n\u001b[0;32m   (...)\u001b[0m\n\u001b[1;32m   1154\u001b[0m \u001b[38;5;124;03m    NumPy dtype.\u001b[39;00m\n\u001b[1;32m   1155\u001b[0m \u001b[38;5;124;03m\"\"\"\u001b[39;00m\n\u001b[1;32m   1156\u001b[0m \u001b[38;5;66;03m# TODO(slebedev): Consider avoiding a copy for non-CPU or remote tensors.\u001b[39;00m\n\u001b[0;32m-> 1157\u001b[0m maybe_arr \u001b[38;5;241m=\u001b[39m \u001b[38;5;28;43mself\u001b[39;49m\u001b[38;5;241;43m.\u001b[39;49m\u001b[43m_numpy\u001b[49m\u001b[43m(\u001b[49m\u001b[43m)\u001b[49m  \u001b[38;5;66;03m# pylint: disable=protected-access\u001b[39;00m\n\u001b[1;32m   1158\u001b[0m \u001b[38;5;28;01mreturn\u001b[39;00m maybe_arr\u001b[38;5;241m.\u001b[39mcopy() \u001b[38;5;28;01mif\u001b[39;00m \u001b[38;5;28misinstance\u001b[39m(maybe_arr, np\u001b[38;5;241m.\u001b[39mndarray) \u001b[38;5;28;01melse\u001b[39;00m maybe_arr\n",
      "File \u001b[0;32m~/miniconda3/envs/tensorflow/lib/python3.9/site-packages/tensorflow/python/framework/ops.py:1123\u001b[0m, in \u001b[0;36m_EagerTensorBase._numpy\u001b[0;34m(self)\u001b[0m\n\u001b[1;32m   1121\u001b[0m \u001b[38;5;28;01mdef\u001b[39;00m \u001b[38;5;21m_numpy\u001b[39m(\u001b[38;5;28mself\u001b[39m):\n\u001b[1;32m   1122\u001b[0m   \u001b[38;5;28;01mtry\u001b[39;00m:\n\u001b[0;32m-> 1123\u001b[0m     \u001b[38;5;28;01mreturn\u001b[39;00m \u001b[38;5;28;43mself\u001b[39;49m\u001b[38;5;241;43m.\u001b[39;49m\u001b[43m_numpy_internal\u001b[49m\u001b[43m(\u001b[49m\u001b[43m)\u001b[49m\n\u001b[1;32m   1124\u001b[0m   \u001b[38;5;28;01mexcept\u001b[39;00m core\u001b[38;5;241m.\u001b[39m_NotOkStatusException \u001b[38;5;28;01mas\u001b[39;00m e:  \u001b[38;5;66;03m# pylint: disable=protected-access\u001b[39;00m\n\u001b[1;32m   1125\u001b[0m     \u001b[38;5;28;01mraise\u001b[39;00m core\u001b[38;5;241m.\u001b[39m_status_to_exception(e) \u001b[38;5;28;01mfrom\u001b[39;00m \u001b[38;5;28mNone\u001b[39m\n",
      "\u001b[0;31mKeyboardInterrupt\u001b[0m: "
     ]
    }
   ],
   "source": [
    "stride = REGION_SIZE\n",
    "\n",
    "heatmap_np = np.zeros((h, w))\n",
    "i = 0\n",
    "while i * stride + IMAGE_SIZE < h:\n",
    "    j = 0\n",
    "    while j * stride + IMAGE_SIZE < w:\n",
    "        im = test_slide_img[i*stride:i*stride+IMAGE_SIZE, j*stride:j*stride+IMAGE_SIZE]\n",
    "        \n",
    "        # augmentation\n",
    "        temp = []\n",
    "        for i in range(4):\n",
    "            temp.append(tf.image.rot90(im, i+1))\n",
    "        flipped = tf.image.flip_left_right(im)\n",
    "\n",
    "        for i in range(4):\n",
    "            temp.append(tf.image.rot90(flipped, i+1))\n",
    "        temp = np.array(temp)\n",
    "        \n",
    "        # pred\n",
    "        y_preds = model.predict(temp, verbose=0)\n",
    "        y_pred_avg = np.average(y_preds)\n",
    "        \n",
    "        # fill heatmap\n",
    "        start_i = (i*stride+i*stride+IMAGE_SIZE)//2-REGION_SIZE//2\n",
    "        end_i = (i*stride+i*stride+IMAGE_SIZE)//2-REGION_SIZE//2 + REGION_SIZE\n",
    "        heatmap_np[start_i:end_i, start_i:end_i] = y_pred_avg\n",
    "        \n",
    "        j += 1\n",
    "    i += 1"
   ]
  },
  {
   "cell_type": "markdown",
   "id": "0e1ff02e-e700-4d63-8d53-fe448a84c191",
   "metadata": {},
   "source": [
    "### Plot Heatmap"
   ]
  },
  {
   "cell_type": "code",
   "execution_count": null,
   "id": "15d03dea-dc63-4881-8c97-c8deccabb646",
   "metadata": {},
   "outputs": [],
   "source": [
    "figure, axs = plt.subplots(1, 2, sharex=True, sharey=True)\n",
    "axs[0].imshow(test_slide_img)\n",
    "axs[1].imshow(heatmap_np)"
   ]
  }
 ],
 "metadata": {
  "kernelspec": {
   "display_name": "Python 3 (ipykernel)",
   "language": "python",
   "name": "python3"
  },
  "language_info": {
   "codemirror_mode": {
    "name": "ipython",
    "version": 3
   },
   "file_extension": ".py",
   "mimetype": "text/x-python",
   "name": "python",
   "nbconvert_exporter": "python",
   "pygments_lexer": "ipython3",
   "version": "3.9.13"
  }
 },
 "nbformat": 4,
 "nbformat_minor": 5
}
