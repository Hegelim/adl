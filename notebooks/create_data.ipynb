{
 "cells": [
  {
   "cell_type": "markdown",
   "id": "af84fc88-5884-4a7d-ae51-b641f0484576",
   "metadata": {},
   "source": [
    "Purpose:\n",
    "1. Create patches of training/testing data\n",
    "2. Save to directories"
   ]
  },
  {
   "cell_type": "code",
   "execution_count": 2,
   "id": "072db402-92ca-4afd-874e-d2750b78e63a",
   "metadata": {},
   "outputs": [],
   "source": [
    "%matplotlib inline\n",
    "import matplotlib.pyplot as plt\n",
    "import numpy as np\n",
    "from openslide import open_slide, __library_version__ as openslide_version\n",
    "import os\n",
    "from PIL import Image\n",
    "from skimage.color import rgb2gray\n",
    "import glob"
   ]
  },
  {
   "cell_type": "markdown",
   "id": "56ffbe65-b166-46d2-b259-de614225756d",
   "metadata": {},
   "source": [
    "### Define global variables"
   ]
  },
  {
   "cell_type": "code",
   "execution_count": 3,
   "id": "1a97365c-56c8-48db-bf2e-fe9d7f65b7d5",
   "metadata": {},
   "outputs": [],
   "source": [
    "train_im_path = \"./\"\n",
    "train_mask_path = \"./\"\n",
    "num_of_image = 1"
   ]
  },
  {
   "cell_type": "code",
   "execution_count": 5,
   "id": "3429ddbf-1d03-4110-9885-503c13ca37d5",
   "metadata": {},
   "outputs": [
    {
     "data": {
      "text/plain": [
       "['./tumor_091_mask.tif',\n",
       " './tumor_031.tif',\n",
       " './tumor_031_mask.tif',\n",
       " './tumor_110.tif',\n",
       " './tumor_110_mask.tif',\n",
       " './tumor_091.tif']"
      ]
     },
     "execution_count": 5,
     "metadata": {},
     "output_type": "execute_result"
    }
   ],
   "source": [
    "train_ims = glob.glob(f\"{train_im_path}*.tif\")\n",
    "train_ims"
   ]
  },
  {
   "cell_type": "markdown",
   "id": "792261f1-4add-456c-8ebf-557b3da529a3",
   "metadata": {},
   "source": [
    "### Define Functions"
   ]
  },
  {
   "cell_type": "code",
   "execution_count": null,
   "id": "99ff9317-311f-4575-acd6-1cad34d76936",
   "metadata": {},
   "outputs": [],
   "source": []
  }
 ],
 "metadata": {
  "kernelspec": {
   "display_name": "Python 3 (ipykernel)",
   "language": "python",
   "name": "python3"
  },
  "language_info": {
   "codemirror_mode": {
    "name": "ipython",
    "version": 3
   },
   "file_extension": ".py",
   "mimetype": "text/x-python",
   "name": "python",
   "nbconvert_exporter": "python",
   "pygments_lexer": "ipython3",
   "version": "3.9.13"
  }
 },
 "nbformat": 4,
 "nbformat_minor": 5
}
